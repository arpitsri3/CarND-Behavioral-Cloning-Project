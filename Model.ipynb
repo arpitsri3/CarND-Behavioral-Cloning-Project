{
 "cells": [
  {
   "cell_type": "markdown",
   "metadata": {},
   "source": [
    "CarND-Behavioral-Cloning-P3"
   ]
  },
  {
   "cell_type": "code",
   "execution_count": 3,
   "metadata": {},
   "outputs": [
    {
     "name": "stdout",
     "output_type": "stream",
     "text": [
      "Length of Training Data:  6348\n",
      "Random datapoint -  ['IMG/center_2016_12_01_13_36_11_709.jpg', ' IMG/left_2016_12_01_13_36_11_709.jpg', ' IMG/right_2016_12_01_13_36_11_709.jpg', ' 0.2148564', ' 0.9855326', ' 0', ' 30.17778']\n",
      "Length of Validation Data:  1688\n",
      "Random datapoint -  ['IMG/center_2016_12_01_13_35_54_491.jpg', ' IMG/left_2016_12_01_13_35_54_491.jpg', ' IMG/right_2016_12_01_13_35_54_491.jpg', ' 0', ' 0.9855326', ' 0', ' 30.18668']\n"
     ]
    }
   ],
   "source": [
    "#Importing Dependencies when required\n",
    "\n",
    "import os\n",
    "import csv\n",
    "\n",
    "samples=[]\n",
    "with open('./data/driving_log.csv') as csvfile:\n",
    "    has_header = csv.Sniffer().has_header(csvfile.read(1024))\n",
    "    csvfile.seek(0)  # Rewind.\n",
    "    reader=csv.reader(csvfile)\n",
    "    if has_header:\n",
    "        next(reader)  # Skip header row.\n",
    "    for line in reader:\n",
    "        samples.append(line)\n",
    "\n",
    "from sklearn.model_selection import train_test_split\n",
    "\n",
    "train_samples, validation_samples = train_test_split(samples, test_size=0.21)\n",
    "\n",
    "#Quick Visualization of what we did above\n",
    "print(\"Length of Training Data: \",len(train_samples))\n",
    "print(\"Random datapoint - \",train_samples[9])\n",
    "print(\"Length of Validation Data: \",len(validation_samples))\n",
    "print(\"Random datapoint - \",validation_samples[9])"
   ]
  },
  {
   "cell_type": "code",
   "execution_count": 4,
   "metadata": {
    "scrolled": true
   },
   "outputs": [
    {
     "name": "stderr",
     "output_type": "stream",
     "text": [
      "Using TensorFlow backend.\n"
     ]
    },
    {
     "name": "stdout",
     "output_type": "stream",
     "text": [
      "Epoch 1/5\n",
      "38088/38088 [==============================] - 66s - loss: 0.1487 - val_loss: 0.0543\n",
      "Epoch 2/5\n",
      "38088/38088 [==============================] - 63s - loss: 0.0406 - val_loss: 0.0305\n",
      "Epoch 3/5\n",
      "38088/38088 [==============================] - 63s - loss: 0.0317 - val_loss: 0.0337\n",
      "Epoch 4/5\n",
      "38088/38088 [==============================] - 63s - loss: 0.0294 - val_loss: 0.0267\n",
      "Epoch 5/5\n",
      "38088/38088 [==============================] - 63s - loss: 0.0285 - val_loss: 0.0282\n",
      "dict_keys(['loss', 'val_loss'])\n"
     ]
    },
    {
     "data": {
      "image/png": "[encoded data removed]",
      "text/plain": [
       "<matplotlib.figure.Figure at 0x7fa464f7f080>"
      ]
     },
     "metadata": {},
     "output_type": "display_data"
    }
   ],
   "source": [
    "#Using the example Generator from Classroom\n",
    "\n",
    "import cv2\n",
    "import numpy as np\n",
    "from sklearn.utils import shuffle\n",
    "from matplotlib import pyplot as plt\n",
    "from scipy.misc import toimage\n",
    "from keras.models import Sequential\n",
    "from keras.layers import Flatten, Dense, Lambda, Cropping2D, Dropout, ELU, MaxPooling2D\n",
    "from keras.layers.convolutional import Convolution2D\n",
    "from keras.regularizers import l2\n",
    "from keras.optimizers import Adam\n",
    "\n",
    "def generator(samples, batch_size=33):\n",
    "    num_samples = len(samples)\n",
    "    while 1: # Loop forever so the generator never terminates\n",
    "        shuffle(samples)\n",
    "        for offset in range(0, num_samples, batch_size):\n",
    "            batch_samples = samples[offset:offset+(batch_size)]\n",
    "\n",
    "            images = []\n",
    "            angles = []\n",
    "            for batch_sample in batch_samples:\n",
    "                name = './data/IMG/'+batch_sample[0].split('/')[-1]\n",
    "                center_image = cv2.imread(name)\n",
    "                center_angle = float(batch_sample[3])\n",
    "                name = './data/IMG/'+batch_sample[1].split('/')[-1]\n",
    "                left_image = cv2.imread(name)\n",
    "                left_angle = float(batch_sample[3])+0.25\n",
    "                name = './data/IMG/'+batch_sample[2].split('/')[-1]\n",
    "                right_image = cv2.imread(name)\n",
    "                right_angle = float(batch_sample[3])-0.25\n",
    "                images.append(center_image)\n",
    "                angles.append(center_angle)\n",
    "                images.append(left_image)\n",
    "                angles.append(left_angle)\n",
    "                images.append(right_image)\n",
    "                angles.append(right_angle)\n",
    "            \n",
    "            #Augment Data by flipping\n",
    "            augmented_images, augmented_measurements = [] , []\n",
    "            for image,measurement in zip(images, angles):\n",
    "                augmented_images.append(image)\n",
    "                augmented_measurements.append(measurement)\n",
    "                augmented_images.append(cv2.flip(image,1))\n",
    "                augmented_measurements.append(measurement*-1.0)\n",
    "            \n",
    "            X_train = np.array(augmented_images)\n",
    "            y_train = np.array(augmented_measurements)\n",
    "            \n",
    "            yield shuffle(X_train, y_train)\n",
    "\n",
    "\n",
    "# compile and train the model using the generator function\n",
    "train_generator = generator(train_samples, batch_size=33)\n",
    "validation_generator = generator(validation_samples, batch_size=33)\n",
    "\n",
    "#ch, row, col = 3, 160, 320  # Trimmed image format\n",
    "\n",
    "model = Sequential()\n",
    "# Preprocess incoming data, centered around zero with small standard deviation \n",
    "#model.add(Lambda(lambda x: x/127.5 - 1.))\n",
    "#model.add(... finish defining the rest of your model architecture here ...)\n",
    "\n",
    "model.add(Lambda(lambda x: x / 255.0 - 0.5, input_shape=(160,320,3), output_shape=(160,320,3)))\n",
    "model.add(Cropping2D(cropping=((70,25),(0,0))))\n",
    "model.add(Convolution2D(24,5,5,subsample=(2,2),activation=\"relu\",W_regularizer=l2(0.001)))\n",
    "model.add(Convolution2D(36,5,5,subsample=(2,2),activation=\"relu\",W_regularizer=l2(0.001)))\n",
    "model.add(Convolution2D(48,5,5,subsample=(2,2),activation=\"relu\",W_regularizer=l2(0.001)))\n",
    "model.add(Convolution2D(64,3,3,activation=\"relu\",W_regularizer=l2(0.001)))\n",
    "#model.add(MaxPooling2D((1,1)))\n",
    "model.add(Convolution2D(64,3,3,activation=\"relu\",W_regularizer=l2(0.001)))\n",
    "model.add(Flatten())\n",
    "model.add(Dense(100,W_regularizer=l2(0.001)))\n",
    "#model.add(Dropout(.6))\n",
    "#model.add(ELU())\n",
    "model.add(Dense(50,W_regularizer=l2(0.001)))\n",
    "model.add(Dense(10,W_regularizer=l2(0.001)))\n",
    "model.add(Dense(1))\n",
    "\n",
    "#Adam(lr=1e-4)\n",
    "model.compile(loss='mse', optimizer='adam')\n",
    "history_object=model.fit_generator(train_generator, samples_per_epoch= len(train_samples)*6, validation_data=validation_generator, nb_val_samples=len(validation_samples), nb_epoch=5)\n",
    "\n",
    "model.save('model.h5')\n",
    "\n",
    "### print the keys contained in the history object\n",
    "print(history_object.history.keys())\n",
    "\n",
    "### plot the training and validation loss for each epoch\n",
    "plt.plot(history_object.history['loss'])\n",
    "plt.plot(history_object.history['val_loss'])\n",
    "plt.title('model mean squared error loss')\n",
    "plt.ylabel('mean squared error loss')\n",
    "plt.xlabel('epoch')\n",
    "plt.legend(['training set', 'validation set'], loc='upper right')\n",
    "plt.show()"
   ]
  }
 ],
 "metadata": {
  "kernelspec": {
   "display_name": "Python 3",
   "language": "python",
   "name": "python3"
  },
  "language_info": {
   "codemirror_mode": {
    "name": "ipython",
    "version": 3
   },
   "file_extension": ".py",
   "mimetype": "text/x-python",
   "name": "python",
   "nbconvert_exporter": "python",
   "pygments_lexer": "ipython3",
   "version": "3.5.2"
  },
  "widgets": {
   "state": {},
   "version": "1.1.2"
  }
 },
 "nbformat": 4,
 "nbformat_minor": 2
}
